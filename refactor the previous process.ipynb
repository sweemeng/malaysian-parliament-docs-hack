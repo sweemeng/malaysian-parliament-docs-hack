{
 "cells": [
  {
   "cell_type": "markdown",
   "metadata": {},
   "source": [
    "Let setup some dependency"
   ]
  },
  {
   "cell_type": "code",
   "execution_count": 1,
   "metadata": {
    "collapsed": true
   },
   "outputs": [],
   "source": [
    "import data_extractor"
   ]
  },
  {
   "cell_type": "code",
   "execution_count": 2,
   "metadata": {
    "collapsed": true
   },
   "outputs": [],
   "source": [
    "from nltk.tokenize import RegexpTokenizer"
   ]
  },
  {
   "cell_type": "code",
   "execution_count": 3,
   "metadata": {
    "collapsed": true
   },
   "outputs": [],
   "source": [
    "from gensim import corpora"
   ]
  },
  {
   "cell_type": "code",
   "execution_count": 4,
   "metadata": {
    "collapsed": true
   },
   "outputs": [],
   "source": [
    "import json"
   ]
  },
  {
   "cell_type": "markdown",
   "metadata": {},
   "source": [
    "let's do things a little different. We will data that contained the document id used in gensim and the document path"
   ]
  },
  {
   "cell_type": "code",
   "execution_count": 5,
   "metadata": {
    "collapsed": true
   },
   "outputs": [],
   "source": [
    "documents = []"
   ]
  },
  {
   "cell_type": "code",
   "execution_count": 6,
   "metadata": {
    "collapsed": true
   },
   "outputs": [],
   "source": [
    "docs = []"
   ]
  },
  {
   "cell_type": "code",
   "execution_count": 7,
   "metadata": {
    "collapsed": true
   },
   "outputs": [],
   "source": [
    "stopwords = data_extractor.stop_words()"
   ]
  },
  {
   "cell_type": "code",
   "execution_count": 8,
   "metadata": {},
   "outputs": [],
   "source": [
    "stopwords.extend(['tuan','kerajaan','tahun','pertanyaan',\n",
    "                  'malaysia','menteri','negara', 'lisan', 'soalan', 'jawapan',\n",
    "                 'kementerian', 'pertua', 'dewan', 'rakyat', 'minta', 'orang'\n",
    "                 ])"
   ]
  },
  {
   "cell_type": "code",
   "execution_count": 9,
   "metadata": {
    "collapsed": true
   },
   "outputs": [],
   "source": [
    "index = [] # because we process a list of text anyway"
   ]
  },
  {
   "cell_type": "code",
   "execution_count": 10,
   "metadata": {
    "collapsed": true
   },
   "outputs": [],
   "source": [
    "tokenizer = RegexpTokenizer(r'(?:RM)*\\d+(?:,|.\\d+)*|\\w+') # Spoiler this is to extract word without punctuation"
   ]
  },
  {
   "cell_type": "markdown",
   "metadata": {},
   "source": [
    "Now process the documents"
   ]
  },
  {
   "cell_type": "code",
   "execution_count": 11,
   "metadata": {},
   "outputs": [],
   "source": [
    "for doc_path in data_extractor.document_walker(path=\"docs/results/\"):\n",
    "    doc = data_extractor.extract_text_single(doc_path)\n",
    "    \n",
    "    text = tokenizer.tokenize(doc.lower())\n",
    "    index.append((doc_path, doc, text))\n",
    "    text = [ word for word in text if word not in stopwords ]\n",
    "    docs.append(text)"
   ]
  },
  {
   "cell_type": "code",
   "execution_count": 12,
   "metadata": {},
   "outputs": [
    {
     "data": {
      "text/plain": [
       "['no',\n",
       " '24',\n",
       " 'parlimen',\n",
       " 'pemberitahu',\n",
       " 'tarikh',\n",
       " 'so',\n",
       " 'alan',\n",
       " 'dato',\n",
       " 'mansor',\n",
       " 'bin',\n",
       " 'othman',\n",
       " 'nibong',\n",
       " 'tebal',\n",
       " '21',\n",
       " 'mac',\n",
       " '2017',\n",
       " 'selasa',\n",
       " 'dato',\n",
       " 'mansor',\n",
       " 'bin',\n",
       " 'othman',\n",
       " 'mente',\n",
       " 'ri',\n",
       " 'pertanian',\n",
       " 'industri',\n",
       " 'asas',\n",
       " 'tani',\n",
       " 'menyatakan',\n",
       " 'status',\n",
       " 'pelaksanaan',\n",
       " 'program',\n",
       " 'agropreneur',\n",
       " 'muda',\n",
       " 'dibentangkan',\n",
       " 'bajet',\n",
       " '2016',\n",
       " 'dipertua',\n",
       " 'pertanian',\n",
       " 'lndustri',\n",
       " 'asas',\n",
       " 'tani',\n",
       " 'melaksanakan',\n",
       " 'program',\n",
       " 'agropreneur',\n",
       " 'muda',\n",
       " 'melahir',\n",
       " 'membangunkan',\n",
       " 'belia',\n",
       " 'sektor',\n",
       " 'pertanian',\n",
       " 'industri',\n",
       " 'asas',\n",
       " 'tani',\n",
       " 'bantuan',\n",
       " 'diberikan',\n",
       " 'geran',\n",
       " 'berbentuk',\n",
       " 'barangan',\n",
       " 'in',\n",
       " 'kind',\n",
       " 'contribution',\n",
       " 'belia',\n",
       " 'layak',\n",
       " 'latihan',\n",
       " 'i',\n",
       " 'kursus',\n",
       " 'teknikal',\n",
       " 'pengurusan',\n",
       " 'kewangan',\n",
       " 'termasuk',\n",
       " 'penyediaan',\n",
       " 'kertas',\n",
       " 'rancangan',\n",
       " 'perniagaan',\n",
       " 'status',\n",
       " 'pelaksanaan',\n",
       " 'program',\n",
       " 'agropreneur',\n",
       " 'muda',\n",
       " '2016',\n",
       " 'berikut',\n",
       " '1',\n",
       " 'mensasarkan',\n",
       " 'serama1',\n",
       " '1,000',\n",
       " 'belia',\n",
       " 'peruntukan',\n",
       " 'rm20',\n",
       " 'juta',\n",
       " '11',\n",
       " 'seramai',\n",
       " '3,088',\n",
       " 'belia',\n",
       " 'berdaftar',\n",
       " 'bawah',\n",
       " 'program',\n",
       " 'seramai',\n",
       " '1,034',\n",
       " 'belia',\n",
       " 'menerima',\n",
       " 'bantuan',\n",
       " 'geran',\n",
       " '111',\n",
       " 'jumlah',\n",
       " '43.2',\n",
       " 'belia',\n",
       " 'beroleh',\n",
       " 'pendapatan',\n",
       " 'melebihi',\n",
       " 'rm3',\n",
       " '000',\n",
       " 'sebulan',\n",
       " '1',\n",
       " 'v',\n",
       " '75',\n",
       " 'siri',\n",
       " 'program',\n",
       " 'promosi',\n",
       " 'dilaksanakan',\n",
       " 'v',\n",
       " 'seramai',\n",
       " '1,686',\n",
       " 'belia',\n",
       " 'mengikuti',\n",
       " 'latihan',\n",
       " 'i',\n",
       " 'kursus',\n",
       " 'teknikal',\n",
       " 'dianjurkan']"
      ]
     },
     "execution_count": 12,
     "metadata": {},
     "output_type": "execute_result"
    }
   ],
   "source": [
    "docs[0]"
   ]
  },
  {
   "cell_type": "code",
   "execution_count": 13,
   "metadata": {},
   "outputs": [
    {
     "data": {
      "text/plain": [
       "('docs/results/20170321__DR_JawabLisan/soalan-24.pdf',\n",
       " \"SOALAN NO: 24 PARLIMEN MALAYSIA PEMBERITAHU PERTANYAAN DEWAN RAKYAT PERTANYAAN DARIPADA TARIKH SO ALAN : Lisan : Dato' Mansor bin Othman [ Nibong Tebal] : 21 Mac 2017 (Selasa) Dato' Mansor bin Othman minta MENTE RI PERTANIAN DAN INDUSTRI ASAS TANI menyatakan: status pelaksanaan Program Agropreneur Muda yang dibentangkan oleh Kerajaan dalam bajet 2016.  JAWAPAN Tuan Yang Dipertua, Kementerian Pertanian dan lndustri Asas Tani telah melaksanakan Program Agropreneur Muda bagi melahir dan membangunkan belia dalam sektor pertanian dan industri asas tani. Bantuan yang diberikan adalah geran berbentuk barangan (in-kind contribution) kepada belia layak serta latihan I kursus teknikal serta pengurusan kewangan termasuk penyediaan kertas rancangan perniagaan. Status pelaksanaan Program Agropreneur Muda bagi tahun 2016 adalah seperti berikut: 1. Mensasarkan serama1 1,000 belia dengan peruntukan RM20 juta; 11. Seramai 3,088 belia telah berdaftar di bawah program ini dan seramai 1,034 belia telah menerima bantuan geran; 111. Daripada jumlah ini, 43.2% belia telah beroleh pendapatan melebihi RM3,000 sebulan; 1v. Sebanyak 75 siri program promosi ke seluruh negara dilaksanakan; dan v. Seramai 1,686 belia telah mengikuti latihan I kursus teknikal yang dianjurkan oleh Kementerian. \",\n",
       " ['soalan',\n",
       "  'no',\n",
       "  '24',\n",
       "  'parlimen',\n",
       "  'malaysia',\n",
       "  'pemberitahu',\n",
       "  'pertanyaan',\n",
       "  'dewan',\n",
       "  'rakyat',\n",
       "  'pertanyaan',\n",
       "  'daripada',\n",
       "  'tarikh',\n",
       "  'so',\n",
       "  'alan',\n",
       "  'lisan',\n",
       "  'dato',\n",
       "  'mansor',\n",
       "  'bin',\n",
       "  'othman',\n",
       "  'nibong',\n",
       "  'tebal',\n",
       "  '21',\n",
       "  'mac',\n",
       "  '2017',\n",
       "  'selasa',\n",
       "  'dato',\n",
       "  'mansor',\n",
       "  'bin',\n",
       "  'othman',\n",
       "  'minta',\n",
       "  'mente',\n",
       "  'ri',\n",
       "  'pertanian',\n",
       "  'dan',\n",
       "  'industri',\n",
       "  'asas',\n",
       "  'tani',\n",
       "  'menyatakan',\n",
       "  'status',\n",
       "  'pelaksanaan',\n",
       "  'program',\n",
       "  'agropreneur',\n",
       "  'muda',\n",
       "  'yang',\n",
       "  'dibentangkan',\n",
       "  'oleh',\n",
       "  'kerajaan',\n",
       "  'dalam',\n",
       "  'bajet',\n",
       "  '2016',\n",
       "  'jawapan',\n",
       "  'tuan',\n",
       "  'yang',\n",
       "  'dipertua',\n",
       "  'kementerian',\n",
       "  'pertanian',\n",
       "  'dan',\n",
       "  'lndustri',\n",
       "  'asas',\n",
       "  'tani',\n",
       "  'telah',\n",
       "  'melaksanakan',\n",
       "  'program',\n",
       "  'agropreneur',\n",
       "  'muda',\n",
       "  'bagi',\n",
       "  'melahir',\n",
       "  'dan',\n",
       "  'membangunkan',\n",
       "  'belia',\n",
       "  'dalam',\n",
       "  'sektor',\n",
       "  'pertanian',\n",
       "  'dan',\n",
       "  'industri',\n",
       "  'asas',\n",
       "  'tani',\n",
       "  'bantuan',\n",
       "  'yang',\n",
       "  'diberikan',\n",
       "  'adalah',\n",
       "  'geran',\n",
       "  'berbentuk',\n",
       "  'barangan',\n",
       "  'in',\n",
       "  'kind',\n",
       "  'contribution',\n",
       "  'kepada',\n",
       "  'belia',\n",
       "  'layak',\n",
       "  'serta',\n",
       "  'latihan',\n",
       "  'i',\n",
       "  'kursus',\n",
       "  'teknikal',\n",
       "  'serta',\n",
       "  'pengurusan',\n",
       "  'kewangan',\n",
       "  'termasuk',\n",
       "  'penyediaan',\n",
       "  'kertas',\n",
       "  'rancangan',\n",
       "  'perniagaan',\n",
       "  'status',\n",
       "  'pelaksanaan',\n",
       "  'program',\n",
       "  'agropreneur',\n",
       "  'muda',\n",
       "  'bagi',\n",
       "  'tahun',\n",
       "  '2016',\n",
       "  'adalah',\n",
       "  'seperti',\n",
       "  'berikut',\n",
       "  '1',\n",
       "  'mensasarkan',\n",
       "  'serama1',\n",
       "  '1,000',\n",
       "  'belia',\n",
       "  'dengan',\n",
       "  'peruntukan',\n",
       "  'rm20',\n",
       "  'juta',\n",
       "  '11',\n",
       "  'seramai',\n",
       "  '3,088',\n",
       "  'belia',\n",
       "  'telah',\n",
       "  'berdaftar',\n",
       "  'di',\n",
       "  'bawah',\n",
       "  'program',\n",
       "  'ini',\n",
       "  'dan',\n",
       "  'seramai',\n",
       "  '1,034',\n",
       "  'belia',\n",
       "  'telah',\n",
       "  'menerima',\n",
       "  'bantuan',\n",
       "  'geran',\n",
       "  '111',\n",
       "  'daripada',\n",
       "  'jumlah',\n",
       "  'ini',\n",
       "  '43.2',\n",
       "  'belia',\n",
       "  'telah',\n",
       "  'beroleh',\n",
       "  'pendapatan',\n",
       "  'melebihi',\n",
       "  'rm3',\n",
       "  '000',\n",
       "  'sebulan',\n",
       "  '1',\n",
       "  'v',\n",
       "  'sebanyak',\n",
       "  '75',\n",
       "  'siri',\n",
       "  'program',\n",
       "  'promosi',\n",
       "  'ke',\n",
       "  'seluruh',\n",
       "  'negara',\n",
       "  'dilaksanakan',\n",
       "  'dan',\n",
       "  'v',\n",
       "  'seramai',\n",
       "  '1,686',\n",
       "  'belia',\n",
       "  'telah',\n",
       "  'mengikuti',\n",
       "  'latihan',\n",
       "  'i',\n",
       "  'kursus',\n",
       "  'teknikal',\n",
       "  'yang',\n",
       "  'dianjurkan',\n",
       "  'oleh',\n",
       "  'kementerian'])"
      ]
     },
     "execution_count": 13,
     "metadata": {},
     "output_type": "execute_result"
    }
   ],
   "source": [
    "index[0]"
   ]
  },
  {
   "cell_type": "markdown",
   "metadata": {},
   "source": [
    "Now let's make a corpus"
   ]
  },
  {
   "cell_type": "code",
   "execution_count": 14,
   "metadata": {
    "collapsed": true
   },
   "outputs": [],
   "source": [
    "dictionary = corpora.Dictionary(docs)"
   ]
  },
  {
   "cell_type": "markdown",
   "metadata": {},
   "source": [
    "Let's save all the things "
   ]
  },
  {
   "cell_type": "code",
   "execution_count": 15,
   "metadata": {},
   "outputs": [],
   "source": [
    "json.dump(index, open(\"index.json\", \"w\"))"
   ]
  },
  {
   "cell_type": "code",
   "execution_count": 16,
   "metadata": {
    "collapsed": true
   },
   "outputs": [],
   "source": [
    "corpus = [dictionary.doc2bow(doc) for doc in docs]"
   ]
  },
  {
   "cell_type": "code",
   "execution_count": 17,
   "metadata": {
    "collapsed": true
   },
   "outputs": [],
   "source": [
    "corpora.MmCorpus.serialize(\"malaysian_parl_clean.mm\", corpus)"
   ]
  },
  {
   "cell_type": "code",
   "execution_count": 18,
   "metadata": {
    "collapsed": true
   },
   "outputs": [],
   "source": [
    "dictionary.save(\"malaysian_parl_clean.dict\")"
   ]
  },
  {
   "cell_type": "markdown",
   "metadata": {},
   "source": [
    "Now create the LDA model"
   ]
  },
  {
   "cell_type": "code",
   "execution_count": 19,
   "metadata": {
    "collapsed": true
   },
   "outputs": [],
   "source": [
    "from gensim import models, similarities"
   ]
  },
  {
   "cell_type": "code",
   "execution_count": 20,
   "metadata": {},
   "outputs": [],
   "source": [
    "corpus = corpora.MmCorpus('malaysian_parl_clean.mm')"
   ]
  },
  {
   "cell_type": "code",
   "execution_count": 21,
   "metadata": {
    "collapsed": true
   },
   "outputs": [],
   "source": [
    "model = models.LdaModel(corpus=corpus, id2word=dictionary, num_topics=50)"
   ]
  },
  {
   "cell_type": "markdown",
   "metadata": {},
   "source": [
    "let's test with one document"
   ]
  },
  {
   "cell_type": "code",
   "execution_count": 22,
   "metadata": {},
   "outputs": [],
   "source": [
    "bow = model.id2word.doc2bow(index[20][2])"
   ]
  },
  {
   "cell_type": "code",
   "execution_count": 23,
   "metadata": {},
   "outputs": [],
   "source": [
    "doc_topics, word_topics, phi_value = model.get_document_topics(corpus[20], per_word_topics=True)"
   ]
  },
  {
   "cell_type": "code",
   "execution_count": 24,
   "metadata": {},
   "outputs": [
    {
     "data": {
      "text/plain": [
       "[(6, 0.50803470595517686),\n",
       " (29, 0.041442107295662285),\n",
       " (40, 0.064767851743149182),\n",
       " (45, 0.38325533500601089)]"
      ]
     },
     "execution_count": 24,
     "metadata": {},
     "output_type": "execute_result"
    }
   ],
   "source": [
    " doc_topics"
   ]
  },
  {
   "cell_type": "code",
   "execution_count": 25,
   "metadata": {},
   "outputs": [
    {
     "data": {
      "text/plain": [
       "[('pihak', 0.0055191717375115837),\n",
       " ('no', 0.0039548251645578972),\n",
       " ('bin', 0.0038799874374940077),\n",
       " ('2017', 0.0038083812476355093),\n",
       " ('menyatakan', 0.003766905130913949),\n",
       " ('china', 0.003615086512276891),\n",
       " ('tindakan', 0.0034225535267946388),\n",
       " ('2', 0.0034065562869656754),\n",
       " ('1', 0.0033755325015486473),\n",
       " ('syarikat', 0.0033727531568216408)]"
      ]
     },
     "execution_count": 25,
     "metadata": {},
     "output_type": "execute_result"
    }
   ],
   "source": [
    "model.show_topic(11)"
   ]
  },
  {
   "cell_type": "code",
   "execution_count": 26,
   "metadata": {},
   "outputs": [
    {
     "data": {
      "text/plain": [
       "'NO. SOALAN: 41 PEMBERITAHUAN PERTANYAAN DEWAN RAKYAT PERTANYAAN DARIPADA TARIKH SO ALAN LISAN YB. DATO\\' SRI ABDUL AZEEZ BIN ABDUL RAHIM [ BALING ] 21MAC2016 YB. Dato\\' Sri Abdul Azeez Bin Abdul Rahim [ Baling ] minta MENTERI PELANCONGAN DAN KEBUDAY AAN menyatakan adakah pihak Kementerian bercadang untuk memansuhkan khidmat pemandu pelancong bagi lawatan pelajar sekolah dalam negara. lni disebabkan lawatan pelajar . sekolah telah dirancang oleh guru pengiring dan memandangkan kos pemandu pelancong agak tinggi dan tidak berfungsi ketika lawatan pelajar sekolah, hal ini pastinya akan membebankan pihak sekolah dan pengusaha bas sekolah ketika musim cuti sekolah. 1  JAWAPAN: DATO\\' SERI MOHAMED NAZRI BIN ABDUL AZIZ MENTERI PELANCONGAN DAN KEBUDAYAAN Tuan Yang di-Pertua, Setakat ini Kementerian Pelancongan dan Kebudayaan Malaysia (KPK) tidak berhasrat memansuhkan khidmat pemandu pelancong di Negara ini yang bertindak sebagai duta kecil dalam memberi gambaran imej sebenar Malaysia sebagai destinasi pelancongan yang harus dikunjungi. Penceritaan pemandu pelancong mengenai sejarah, warisan, budaya, agama, makanan tempatan dan sebagainya semasa membawa sekumpulan pelancong dari luar negara atau tempatan memberi gambaran secara tidak langsung keunikan dan keindahan Malaysia sebagai sebuah destinasi pilihan utama pelancong. Dalam hubungan ini, bagi tujuan lawatan pelajar sekolah ke pusat tarikan pelancong menggunakan bas sekolah hendaklah menggunakan khidmat pemandu pelancong seperti mana kehendak seksyen 6(1 )(i)(iii), Peraturan-peraturan lndustri Pelancongan (Perniagaan Pengendalian Pelancongan Dan Perniagaan Agensi Pengembaraan) 1992 iaitu: \"melainkan jika diluluskan sebaliknya oleh Pesuruhjaya, dia hendaklah menggunakan khidmat seorang pemandu pelancong dalam negeri berlesen bagi tiap-tiap pelancongan yang dikelolakan atau diaturkan olehnya\". 2  Waiau bagaimanapun, Kementerian membenarkan pihak penganjur untuk memohon pengecualian khidmat seorang pemandu pelancong selaras dengan seksyen 6(1 )(i)(iv), Peraturan-peraturan yang sama iaitu: \"dia hendaklah memohon kepada Pesuruhjaya untuk kelulusan untuk tidak menggunakan khidmat seorang pemandu pelancong berlesen dan hendaklah membayar fi pemprosesan sebanyak dua puluh ringgit bagi permohonan sedemikian\". Pemohonan pengecualian khidmat pemandu pelancong ini boleh dipohon di Sahagian Pelesenan, KPK Putrajaya dan lbu pejabat KPK Negeri di seluruh Malaysia. Sekian, terima kasih. 3 '"
      ]
     },
     "execution_count": 26,
     "metadata": {},
     "output_type": "execute_result"
    }
   ],
   "source": [
    "index[5][1]"
   ]
  },
  {
   "cell_type": "code",
   "execution_count": 27,
   "metadata": {},
   "outputs": [
    {
     "data": {
      "text/plain": [
       "[(16,\n",
       "  '0.006*\"no\" + 0.006*\"bin\" + 0.005*\"langkah\" + 0.005*\"tarikh\" + 0.005*\"2017\" + 0.004*\"datuk\" + 0.004*\"jumlah\" + 0.004*\"menyatakan\" + 0.004*\"berhormat\" + 0.004*\"bawah\"'),\n",
       " (14,\n",
       "  '0.009*\"program\" + 0.007*\"kes\" + 0.006*\"bin\" + 0.005*\"negeri\" + 0.005*\"1\" + 0.005*\"tarikh\" + 0.004*\"undang\" + 0.004*\"kawasan\" + 0.004*\"dato\" + 0.004*\"menyatakan\"'),\n",
       " (6,\n",
       "  '0.007*\"projek\" + 0.007*\"1\" + 0.006*\"menyatakan\" + 0.006*\"perkhidmatan\" + 0.005*\"program\" + 0.004*\"tarikh\" + 0.004*\"2\" + 0.004*\"a\" + 0.004*\"bin\" + 0.004*\"kesihatan\"'),\n",
       " (43,\n",
       "  '0.006*\"no\" + 0.006*\"harga\" + 0.006*\"2017\" + 0.005*\"2\" + 0.005*\"tarikh\" + 0.005*\"pemberitahuan\" + 0.005*\"negeri\" + 0.005*\"2016\" + 0.005*\"1\" + 0.004*\"menyatakan\"'),\n",
       " (46,\n",
       "  '0.008*\"1\" + 0.006*\"hutang\" + 0.005*\"kewangan\" + 0.004*\"pembangunan\" + 0.004*\"memastikan\" + 0.004*\"yb\" + 0.004*\"tarikh\" + 0.004*\"jumlah\" + 0.003*\"2016\" + 0.003*\"menyatakan\"'),\n",
       " (21,\n",
       "  '0.009*\"negeri\" + 0.008*\"kanak\" + 0.006*\"keselamatan\" + 0.005*\"bawah\" + 0.005*\"2017\" + 0.005*\"projek\" + 0.005*\"langkah\" + 0.005*\"terbang\" + 0.005*\"lapangan\" + 0.005*\"syarikat\"'),\n",
       " (41,\n",
       "  '0.006*\"bin\" + 0.005*\"keselamatan\" + 0.005*\"kawasan\" + 0.005*\"negeri\" + 0.005*\"terbang\" + 0.005*\"menyatakan\" + 0.004*\"tarikh\" + 0.004*\"lapangan\" + 0.004*\"langkah\" + 0.004*\"sekolah\"'),\n",
       " (39,\n",
       "  '0.007*\"negeri\" + 0.006*\"kawasan\" + 0.005*\"projek\" + 0.005*\"tahanan\" + 0.004*\"pihak\" + 0.004*\"2\" + 0.004*\"3\" + 0.004*\"no\" + 0.004*\"pembinaan\" + 0.004*\"berhormat\"'),\n",
       " (47,\n",
       "  '0.009*\"sekolah\" + 0.007*\"perkhidmatan\" + 0.006*\"projek\" + 0.005*\"menyatakan\" + 0.005*\"tarikh\" + 0.004*\"negeri\" + 0.004*\"kesihatan\" + 0.004*\"perubatan\" + 0.004*\"kawasan\" + 0.004*\"a\"'),\n",
       " (34,\n",
       "  '0.007*\"tarikh\" + 0.006*\"2017\" + 0.006*\"yb\" + 0.006*\"bin\" + 0.006*\"dato\" + 0.005*\"negeri\" + 0.005*\"ahli\" + 0.005*\"berhormat\" + 0.005*\"syarikat\" + 0.005*\"2\"'),\n",
       " (38,\n",
       "  '0.007*\"program\" + 0.006*\"perkhidmatan\" + 0.006*\"sekolah\" + 0.005*\"pendidikan\" + 0.005*\"bin\" + 0.005*\"pelancongan\" + 0.004*\"meningkatkan\" + 0.004*\"juta\" + 0.004*\"projek\" + 0.004*\"1\"'),\n",
       " (23,\n",
       "  '0.005*\"program\" + 0.004*\"1\" + 0.004*\"projek\" + 0.004*\"kerja\" + 0.004*\"no\" + 0.003*\"2016\" + 0.003*\"tarikh\" + 0.003*\"makanan\" + 0.003*\"keluarga\" + 0.003*\"secara\"'),\n",
       " (42,\n",
       "  '0.006*\"2017\" + 0.006*\"menyatakan\" + 0.006*\"tarikh\" + 0.006*\"1\" + 0.005*\"bawah\" + 0.005*\"pihak\" + 0.004*\"secara\" + 0.004*\"program\" + 0.004*\"bin\" + 0.004*\"ahli\"'),\n",
       " (22,\n",
       "  '0.006*\"industri\" + 0.006*\"syarikat\" + 0.006*\"2017\" + 0.005*\"1\" + 0.005*\"pihak\" + 0.005*\"menyatakan\" + 0.005*\"projek\" + 0.004*\"yb\" + 0.004*\"tahanan\" + 0.004*\"program\"'),\n",
       " (2,\n",
       "  '0.005*\"tarikh\" + 0.005*\"menyatakan\" + 0.005*\"perkhidmatan\" + 0.005*\"negeri\" + 0.005*\"no\" + 0.005*\"2\" + 0.004*\"sekolah\" + 0.004*\"bin\" + 0.004*\"1\" + 0.004*\"program\"'),\n",
       " (4,\n",
       "  '0.008*\"2017\" + 0.006*\"negeri\" + 0.006*\"kes\" + 0.006*\"menyatakan\" + 0.006*\"jumlah\" + 0.005*\"kematian\" + 0.005*\"pihak\" + 0.005*\"mac\" + 0.005*\"1\" + 0.005*\"tahanan\"'),\n",
       " (9,\n",
       "  '0.007*\"1\" + 0.007*\"2\" + 0.005*\"kos\" + 0.005*\"bin\" + 0.005*\"bawah\" + 0.004*\"3\" + 0.004*\"2016\" + 0.004*\"menyatakan\" + 0.004*\"b\" + 0.004*\"tarikh\"'),\n",
       " (33,\n",
       "  '0.008*\"bin\" + 0.007*\"2017\" + 0.007*\"negeri\" + 0.006*\"yb\" + 0.005*\"menyatakan\" + 0.005*\"dato\" + 0.005*\"makluman\" + 0.005*\"no\" + 0.005*\"mac\" + 0.005*\"tarikh\"'),\n",
       " (1,\n",
       "  '0.010*\"kawasan\" + 0.006*\"yb\" + 0.005*\"negeri\" + 0.005*\"sdn\" + 0.005*\"no\" + 0.005*\"tarikh\" + 0.005*\"projek\" + 0.005*\"pihak\" + 0.004*\"2\" + 0.004*\"jabatan\"'),\n",
       " (19,\n",
       "  '0.006*\"projek\" + 0.006*\"tarikh\" + 0.006*\"2017\" + 0.006*\"china\" + 0.005*\"pihak\" + 0.005*\"menyatakan\" + 0.005*\"no\" + 0.005*\"bin\" + 0.004*\"1\" + 0.004*\"yb\"')]"
      ]
     },
     "execution_count": 27,
     "metadata": {},
     "output_type": "execute_result"
    }
   ],
   "source": [
    "model.print_topics()"
   ]
  },
  {
   "cell_type": "code",
   "execution_count": null,
   "metadata": {
    "collapsed": true
   },
   "outputs": [],
   "source": []
  }
 ],
 "metadata": {
  "kernelspec": {
   "display_name": "Python 3",
   "language": "python",
   "name": "python3"
  },
  "language_info": {
   "codemirror_mode": {
    "name": "ipython",
    "version": 3
   },
   "file_extension": ".py",
   "mimetype": "text/x-python",
   "name": "python",
   "nbconvert_exporter": "python",
   "pygments_lexer": "ipython3",
   "version": "3.6.1"
  }
 },
 "nbformat": 4,
 "nbformat_minor": 2
}
