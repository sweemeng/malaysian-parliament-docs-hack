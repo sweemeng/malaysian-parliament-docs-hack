{
 "cells": [
  {
   "cell_type": "markdown",
   "metadata": {},
   "source": [
    "First let's setup the dependency"
   ]
  },
  {
   "cell_type": "code",
   "execution_count": 1,
   "metadata": {
    "collapsed": true
   },
   "outputs": [],
   "source": [
    "import PyPDF2 # For pdf processing"
   ]
  },
  {
   "cell_type": "code",
   "execution_count": 2,
   "metadata": {
    "collapsed": true
   },
   "outputs": [],
   "source": [
    "import os.path # For path processing"
   ]
  },
  {
   "cell_type": "markdown",
   "metadata": {},
   "source": [
    "Now setup the path where we save the file from running. https://github.com/leowmjw/parliamentMY-QA-blast"
   ]
  },
  {
   "cell_type": "code",
   "execution_count": 3,
   "metadata": {
    "collapsed": true
   },
   "outputs": [],
   "source": [
    "path = \"docs/results/\""
   ]
  },
  {
   "cell_type": "markdown",
   "metadata": {},
   "source": [
    "Now read a random file in the path"
   ]
  },
  {
   "cell_type": "code",
   "execution_count": 4,
   "metadata": {
    "collapsed": true
   },
   "outputs": [],
   "source": [
    "docs = PyPDF2.PdfFileReader(open(\"docs/results/20170307__DR_JawabLisan/soalan-14.pdf\", \"rb\"))"
   ]
  },
  {
   "cell_type": "markdown",
   "metadata": {},
   "source": [
    "Let get the number of page"
   ]
  },
  {
   "cell_type": "code",
   "execution_count": 5,
   "metadata": {},
   "outputs": [
    {
     "data": {
      "text/plain": [
       "2"
      ]
     },
     "execution_count": 5,
     "metadata": {},
     "output_type": "execute_result"
    }
   ],
   "source": [
    "docs.numPages  # get number of page"
   ]
  },
  {
   "cell_type": "markdown",
   "metadata": {},
   "source": [
    "Now get a pdf object"
   ]
  },
  {
   "cell_type": "code",
   "execution_count": 6,
   "metadata": {
    "collapsed": true
   },
   "outputs": [],
   "source": [
    "page_1 = docs.getPage(0) # zero index!"
   ]
  },
  {
   "cell_type": "markdown",
   "metadata": {},
   "source": [
    "Now extract text"
   ]
  },
  {
   "cell_type": "code",
   "execution_count": 7,
   "metadata": {},
   "outputs": [
    {
     "data": {
      "text/plain": [
       "'PERTANYAAN DARIPADA TARIKH RUJUKAN SO ALAN PEMBERITAHU PERTANYAAN DEWAN RAKYAT, MALAYSIA LISAN SOALAN NO: 14 PUAN TERESA KOK SUH SIM [SEPUTEH] SELASA, 7 MAC 2017 L 1 [PR-1351-L00118] Puan Teresa Kok Suh Sim [Seputeh] minta MENTERI WILAYAH PERSEKUTUAN menyatakan prosedur penjualan tanah D BKL. Kenapakah tender terbuka tidak dilaksanakan daripada segi penjualan tanah Kerajaan. '"
      ]
     },
     "execution_count": 7,
     "metadata": {},
     "output_type": "execute_result"
    }
   ],
   "source": [
    "page_1.extractText()"
   ]
  },
  {
   "cell_type": "markdown",
   "metadata": {},
   "source": [
    "Let's do page 2"
   ]
  },
  {
   "cell_type": "code",
   "execution_count": 8,
   "metadata": {
    "collapsed": true
   },
   "outputs": [],
   "source": [
    "page_2 = docs.getPage(1)"
   ]
  },
  {
   "cell_type": "code",
   "execution_count": 9,
   "metadata": {},
   "outputs": [
    {
     "data": {
      "text/plain": [
       "'Tuan Yang di-Pertua, Untuk makluman Ahli Yang Berhormat Seputeh, semua permohonan penjualan tanah akan dipertimbangkan di peringkat Jawatankuasa yang dipengerusikan oleh pengurusan tertinggi Dewan Bandaraya Kuala Lumpur (DBKL). Jawatankuasa ini akan meneliti, membuat analisa dan memperakukan syarikat yang boleh ditawarkan untuk membeli tanah DBKL. Jawatankuasa akan memastikan setiap penjualan akan mendapatkan nilai pulangan yang terbaik untuk DBKL. Untuk makluman Ahli Yang Berhormat Seputeh juga, selaras dengan keperluan Seksyen (101) (r) Akta Kerajaan Tempatan 1976, perakuan Jawatankuasa akan dikemukakan kepada YB Menteri Wilayah Persekutuan untuk dimuktamadkan. '"
      ]
     },
     "execution_count": 9,
     "metadata": {},
     "output_type": "execute_result"
    }
   ],
   "source": [
    "page_2.extractText()"
   ]
  },
  {
   "cell_type": "code",
   "execution_count": null,
   "metadata": {
    "collapsed": true
   },
   "outputs": [],
   "source": []
  }
 ],
 "metadata": {
  "kernelspec": {
   "display_name": "Python 3",
   "language": "python",
   "name": "python3"
  },
  "language_info": {
   "codemirror_mode": {
    "name": "ipython",
    "version": 3
   },
   "file_extension": ".py",
   "mimetype": "text/x-python",
   "name": "python",
   "nbconvert_exporter": "python",
   "pygments_lexer": "ipython3",
   "version": "3.6.1"
  }
 },
 "nbformat": 4,
 "nbformat_minor": 2
}
