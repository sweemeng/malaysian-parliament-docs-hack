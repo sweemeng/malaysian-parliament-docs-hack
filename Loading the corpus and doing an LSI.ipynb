{
 "cells": [
  {
   "cell_type": "markdown",
   "metadata": {},
   "source": [
    "Let's load the dependency"
   ]
  },
  {
   "cell_type": "code",
   "execution_count": 1,
   "metadata": {
    "collapsed": true
   },
   "outputs": [],
   "source": [
    "from gensim import corpora, models, similarities"
   ]
  },
  {
   "cell_type": "markdown",
   "metadata": {},
   "source": [
    "Now the load the previous dictionaryand corpus"
   ]
  },
  {
   "cell_type": "code",
   "execution_count": 2,
   "metadata": {
    "collapsed": true
   },
   "outputs": [],
   "source": [
    "dictionary = corpora.Dictionary.load(\"malaysian_parl.dict\")"
   ]
  },
  {
   "cell_type": "code",
   "execution_count": 3,
   "metadata": {
    "collapsed": true
   },
   "outputs": [],
   "source": [
    "corpus = corpora.MmCorpus(\"malaysian_parl.mm\")"
   ]
  },
  {
   "cell_type": "markdown",
   "metadata": {},
   "source": [
    "Now create a model of 10 topic"
   ]
  },
  {
   "cell_type": "code",
   "execution_count": 4,
   "metadata": {
    "collapsed": true
   },
   "outputs": [],
   "source": [
    "lsi = models.LsiModel(corpus, id2word=dictionary, num_topics=10)"
   ]
  },
  {
   "cell_type": "markdown",
   "metadata": {},
   "source": [
    "Let see what we have here!"
   ]
  },
  {
   "cell_type": "code",
   "execution_count": 5,
   "metadata": {},
   "outputs": [
    {
     "data": {
      "text/plain": [
       "[(0,\n",
       "  '0.528*\"dan\" + 0.425*\"yang\" + 0.316*\"di\" + 0.162*\"untuk\" + 0.158*\"telah\" + 0.145*\"bagi\" + 0.144*\"Malaysia\" + 0.140*\"dalam\" + 0.138*\"ini\" + 0.124*\"dengan\"'),\n",
       " (1,\n",
       "  '0.438*\"di\" + 0.390*\"Malaysia\" + 0.297*\"China\" + 0.277*\"negara\" + 0.157*\"Laut\" + -0.149*\"yang\" + 0.145*\"Selatan\" + -0.134*\"tahun\" + -0.124*\"orang\" + 0.101*\"bahawa\"'),\n",
       " (2,\n",
       "  '0.483*\"dan\" + 0.252*\"negara\" + -0.245*\"di\" + -0.180*\"yang\" + -0.147*\"PERTANYAAN\" + -0.129*\"MENTERI\" + -0.127*\"oleh\" + -0.116*\"Yang\" + 0.112*\"makanan\" + 0.110*\"China\"'),\n",
       " (3,\n",
       "  '0.432*\"yang\" + -0.328*\"dan\" + -0.297*\"di\" + 0.182*\"syarikat\" + 0.179*\"negara\" + 0.176*\"Malaysia\" + -0.169*\"orang\" + 0.134*\"pelaburan\" + -0.133*\"Kementerian\" + 0.129*\"Kerajaan\"'),\n",
       " (4,\n",
       "  '0.297*\"yang\" + 0.250*\"orang\" + -0.202*\"Yang\" + 0.156*\"telah\" + -0.156*\"China\" + -0.151*\"PERTANYAAN\" + 0.143*\"tahanan\" + 0.119*\"kes\" + -0.117*\"MENTERI\" + 0.115*\"PDRM\"'),\n",
       " (5,\n",
       "  '0.366*\"China\" + -0.250*\"telah\" + -0.242*\"Malaysia\" + 0.229*\"atau\" + 0.229*\"orang\" + 0.201*\"Laut\" + 0.182*\"yang\" + 0.174*\"Selatan\" + -0.151*\"di\" + -0.133*\"pada\"'),\n",
       " (6,\n",
       "  '0.515*\"orang\" + 0.331*\"tahun\" + 0.217*\"Malaysia\" + -0.158*\"dan\" + 0.145*\"jumlah\" + 0.135*\"2016\" + 0.130*\"sebanyak\" + 0.119*\"dari\" + 0.111*\"dengan\" + -0.110*\"teksi\"'),\n",
       " (7,\n",
       "  '-0.273*\"Malaysia\" + 0.212*\"pada\" + 0.200*\"projek\" + -0.194*\"sekolah\" + -0.193*\"untuk\" + -0.181*\"dalam\" + 0.169*\"telah\" + -0.157*\"perkhidmatan\" + 0.156*\"di\" + -0.130*\"Kementerian\"'),\n",
       " (8,\n",
       "  '-0.323*\"orang\" + -0.250*\"perkhidmatan\" + 0.218*\"dalam\" + 0.204*\"tahanan\" + 0.182*\"kes\" + 0.166*\"negara\" + -0.157*\"teksi\" + 0.150*\"atau\" + 0.148*\"Kementerian\" + -0.146*\"pemandu\"'),\n",
       " (9,\n",
       "  '-0.271*\"projek\" + -0.236*\"di\" + 0.228*\"orang\" + -0.225*\"syarikat\" + 0.206*\"pada\" + 0.200*\"Kerajaan\" + 0.195*\"negara\" + -0.157*\"pelaburan\" + -0.126*\"industri\" + 0.117*\"kepada\"')]"
      ]
     },
     "execution_count": 5,
     "metadata": {},
     "output_type": "execute_result"
    }
   ],
   "source": [
    "lsi.print_topics()"
   ]
  },
  {
   "cell_type": "markdown",
   "metadata": {},
   "source": [
    "it is actually horrible!"
   ]
  },
  {
   "cell_type": "code",
   "execution_count": 9,
   "metadata": {},
   "outputs": [
    {
     "data": {
      "text/plain": [
       "[('dan', 0.52846532705490801),\n",
       " ('yang', 0.42517631439497583),\n",
       " ('di', 0.31571743799621754),\n",
       " ('untuk', 0.16229848662569091),\n",
       " ('telah', 0.15777195890989612),\n",
       " ('bagi', 0.14450560607717064),\n",
       " ('Malaysia', 0.14378874095537716),\n",
       " ('dalam', 0.13977854470575446),\n",
       " ('ini', 0.13781123319810351),\n",
       " ('dengan', 0.12423228805332261)]"
      ]
     },
     "execution_count": 9,
     "metadata": {},
     "output_type": "execute_result"
    }
   ],
   "source": [
    "lsi.show_topic(0)"
   ]
  },
  {
   "cell_type": "code",
   "execution_count": null,
   "metadata": {
    "collapsed": true
   },
   "outputs": [],
   "source": [
    "t"
   ]
  }
 ],
 "metadata": {
  "kernelspec": {
   "display_name": "Python 3",
   "language": "python",
   "name": "python3"
  },
  "language_info": {
   "codemirror_mode": {
    "name": "ipython",
    "version": 3
   },
   "file_extension": ".py",
   "mimetype": "text/x-python",
   "name": "python",
   "nbconvert_exporter": "python",
   "pygments_lexer": "ipython3",
   "version": "3.6.1"
  }
 },
 "nbformat": 4,
 "nbformat_minor": 2
}
